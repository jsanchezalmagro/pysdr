{
 "cells": [
  {
   "cell_type": "code",
   "execution_count": null,
   "metadata": {},
   "outputs": [],
   "source": [
    "import numpy as np\n",
    "import matplotlib.pyplot as plt\n",
    "from fxpmath import Fxp"
   ]
  },
  {
   "cell_type": "code",
   "execution_count": null,
   "metadata": {},
   "outputs": [],
   "source": [
    "\n",
    "#z.resize(True, 16, 8)    # signed=True, n_word=8, n_frac=6\n",
    "\n",
    "\n",
    "Fs = 100\n",
    "Ts = 1 /Fs\n",
    "Tend = 1\n",
    "N = int(Tend / Ts) + 1\n",
    "t = np.arange(0, N, 1, dtype=int)\n",
    "x = np.ones(shape=N,dtype=float)\n",
    "y = np.zeros(shape=N,dtype=float)\n",
    "A = Ts\n",
    "x = Fxp(x, signed=True, n_word=16, n_frac=10)\n",
    "y = Fxp(y, signed=True, n_word=16, n_frac=10)\n",
    "\n",
    "y1 = Fxp(y, signed=True, n_word=16, n_frac=10)\n",
    "A= Fxp(A, signed=True, n_word=16, n_frac=10)\n",
    "for i in t[0:N-1]:\n",
    "    y[i+1] = y[i]+ A * x[i]\n",
    "    y[i+1].resize(True, 16, 10) \n",
    "    y1[i+1] = y1[i] + A * y[i]\n",
    "    y1[i+1].resize(True, 16, 10) \n"
   ]
  },
  {
   "cell_type": "code",
   "execution_count": null,
   "metadata": {},
   "outputs": [],
   "source": [
    "\n",
    "class Gp:\n",
    "\n",
    "    def __init__(self, b, a):\n",
    "        self.speed_1 = 0\n",
    "        self.b = b\n",
    "        self.a = a\n",
    "        self.x = np.zeros(len(a))\n",
    "        self.y = np.zeros(len(b))\n",
    "\n",
    "    def run(self, x_new):\n",
    "        # new output\n",
    "        y_new = np.cumsum(self.b * self.x + self.a * self.y)[-1]\n",
    "\n",
    "        # Shift vectors\n",
    "        self.y = np.concatenate((self.y[1:], [y_new]))\n",
    "        self.y = np.concatenate((self.y[1:], [y_new]))\n",
    "        self.x = np.concatenate((self.x[1:], [x_new]))\n",
    "        return y_new\n",
    "\n",
    "\n",
    "\n",
    "Fs = 100\n",
    "Ts = 1 /Fs\n",
    "Tend = 1\n",
    "N = int(Tend / Ts) + 1\n",
    "t = np.arange(0, N, 1, dtype=int)\n",
    "\n",
    "\n",
    "b = np.array([0.0, 0.0, 0.0625])\n",
    "a = np.array([-1.0, 2.0, 0.0])\n",
    "Gpx = Gp(b=b, a=a)\n",
    "\n",
    "volt_in   = np.ones(shape=N,dtype=float)\n",
    "speed_out = np.zeros(shape=N,dtype=float)\n",
    "\n",
    "for i in t[0:N-1]:\n",
    "    speed_out[i+1] = Gpx.run(volt_in[i])\n",
    "\n",
    "#print(speed_out)\n",
    "\n",
    "fig, axs = plt.subplots(1, 1)\n",
    "axs.plot(t, speed_out)\n",
    "axs.set_xlabel('Time')\n",
    "axs.set_ylabel('s1 and s2')\n",
    "axs.grid(True)\n",
    "\n",
    "axs.set_ylabel('Coherence')\n",
    "\n",
    "fig.tight_layout()\n",
    "plt.show()\n"
   ]
  },
  {
   "cell_type": "code",
   "execution_count": 72,
   "metadata": {},
   "outputs": [
    {
     "data": {
      "image/png": "[encoded data removed]",
      "text/plain": [
       "<Figure size 640x480 with 1 Axes>"
      ]
     },
     "metadata": {},
     "output_type": "display_data"
    }
   ],
   "source": [
    "class Gp:\n",
    "\n",
    "    def __init__(self, b, a):\n",
    "        self.speed_1 = 0\n",
    "        self.b = b\n",
    "        self.a = a\n",
    "        self.x = np.zeros(len(a))\n",
    "        self.y = np.zeros(len(b))\n",
    "\n",
    "    def run(self, x_new):\n",
    "        # new output\n",
    "        y_new = np.cumsum(self.b * self.x + self.a * self.y)[-1]\n",
    "\n",
    "        # Shift vectors\n",
    "        self.y = np.concatenate((self.y[1:], [y_new]))\n",
    "        self.y = np.concatenate((self.y[1:], [y_new]))\n",
    "        self.x = np.concatenate((self.x[1:], [x_new]))\n",
    "        return y_new\n",
    "\n",
    "\n",
    "\n",
    "Fs = 100\n",
    "Ts = 1 /Fs\n",
    "Tend = 2\n",
    "N = int(Tend / Ts) + 1\n",
    "t = np.arange(0, Tend, Ts)\n",
    "N = len(t)\n",
    "\n",
    "\n",
    "b = np.array([0.70577, 02.329, 1.0864, 0.0])\n",
    "a = np.array([-0.07963, 0.49613, -1.4165, 0.0])\n",
    "Gpx = Gp(b=b, a=a)\n",
    "\n",
    "volt_in   = np.zeros(shape=N,dtype=float)\n",
    "volt_in[10:40] = 1.0\n",
    "speed_out = np.zeros(shape=N,dtype=float)\n",
    "\n",
    "for i in range(N-1):\n",
    "    speed_out[i+1] = Gpx.run(volt_in[i])\n",
    "\n",
    "#print(speed_out)\n",
    "\n",
    "fig, axs = plt.subplots(1, 1)\n",
    "axs.plot(t, speed_out)\n",
    "axs.set_xlabel('Time')\n",
    "axs.set_ylabel('s1 and s2')\n",
    "axs.grid(True)\n",
    "\n",
    "axs.set_ylabel('Speed')\n",
    "\n",
    "fig.tight_layout()\n",
    "plt.show()"
   ]
  },
  {
   "cell_type": "code",
   "execution_count": null,
   "metadata": {},
   "outputs": [],
   "source": [
    "x_in = np.array([1,1,1,1,1,1,0,0,0,1,1,1])\n",
    "\n",
    "a = np.array([1, 0])\n",
    "b = np.array([0, 0.25])\n",
    "y = np.array([0, 0])\n",
    "x = np.array([0, 0])\n",
    "\n",
    "\n",
    "\n",
    "for i in x_in:\n",
    "    #c = b * x + a * y\n",
    "    tmp = np.cumsum(b * x + a * y)[-1]\n",
    "    print(tmp)\n",
    "    \n",
    "\n",
    "    y = np.concatenate((y[1:], [tmp]))\n",
    "    y = np.concatenate((y[1:], [tmp]))\n",
    "    x = np.concatenate((x[1:], [i]))\n",
    "    \n"
   ]
  }
 ],
 "metadata": {
  "kernelspec": {
   "display_name": "base",
   "language": "python",
   "name": "python3"
  },
  "language_info": {
   "codemirror_mode": {
    "name": "ipython",
    "version": 3
   },
   "file_extension": ".py",
   "mimetype": "text/x-python",
   "name": "python",
   "nbconvert_exporter": "python",
   "pygments_lexer": "ipython3",
   "version": "3.9.15"
  },
  "orig_nbformat": 4,
  "vscode": {
   "interpreter": {
    "hash": "3d597f4c481aa0f25dceb95d2a0067e73c0966dcbd003d741d821a7208527ecf"
   }
  }
 },
 "nbformat": 4,
 "nbformat_minor": 2
}
